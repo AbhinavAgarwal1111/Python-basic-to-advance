{
 "cells": [
  {
   "cell_type": "code",
   "execution_count": 5,
   "id": "bf3e9c2d",
   "metadata": {},
   "outputs": [
    {
     "name": "stdout",
     "output_type": "stream",
     "text": [
      "Enter your number : 8\n",
      "Square of number is  64.0\n"
     ]
    }
   ],
   "source": [
    "#Write a Python program that defines a function square to calculate and return the square of a given number.\n",
    "# Then, use the function to calculate and print the square of a number provided by the user.\n",
    "\n",
    "def square(number):\n",
    "    result = pow(number,2)\n",
    "    return result\n",
    "user_number = float(input(\"Enter your number : \"))\n",
    "result = square(user_number)\n",
    "print(\"Square of number is \", result)"
   ]
  },
  {
   "cell_type": "code",
   "execution_count": 2,
   "id": "77511ba4",
   "metadata": {},
   "outputs": [
    {
     "name": "stdout",
     "output_type": "stream",
     "text": [
      "Enter Length of the Rectangle 12\n",
      "Enter Width of the Rectangle 34\n",
      "the area of rectangle is :  408.0\n"
     ]
    }
   ],
   "source": [
    "#Python program that defines a function to calculate the area of a rectangle.\n",
    "\n",
    "def area_rectangle(length,width):\n",
    "    result = length * width\n",
    "    return result\n",
    "user_length = float(input(\"Enter Length of the Rectangle \"))\n",
    "user_width = float(input(\"Enter Width of the Rectangle \"))\n",
    "result = area_rectangle(user_length,user_width)\n",
    "print(\"the area of rectangle is : \", result)"
   ]
  },
  {
   "cell_type": "code",
   "execution_count": 6,
   "id": "318fa26f",
   "metadata": {},
   "outputs": [
    {
     "name": "stdout",
     "output_type": "stream",
     "text": [
      "Enter your number : 12\n",
      "True\n"
     ]
    }
   ],
   "source": [
    "# Write a Python program that defines a function is_even to check if a given number is even.\n",
    "# The function should return True if the number is even and False otherwise.\n",
    "# Then, use the function to check and print whether a number provided by the user is even or not.\n",
    "\n",
    "def is_even(number):\n",
    "    if number%2 == 0:\n",
    "        return True\n",
    "    else:\n",
    "        return False\n",
    "user_number = float(input(\"Enter your number : \"))\n",
    "print( is_even(user_number))\n"
   ]
  },
  {
   "cell_type": "code",
   "execution_count": 11,
   "id": "439b28ce",
   "metadata": {},
   "outputs": [
    {
     "name": "stdout",
     "output_type": "stream",
     "text": [
      "Enter your number : 12\n",
      "12 Number is Not Prime\n"
     ]
    }
   ],
   "source": [
    "# Write a Python program that defines a function is_prime to check if a given positive integer is a prime number. \n",
    "# The function should return True if the number is prime and False otherwise. \n",
    "# Then, use the function to check and print whether a number provided by the user is a prime number or not.\n",
    "\n",
    "def is_prime(number):\n",
    "    if number <= 1:\n",
    "        return False\n",
    "    for devisor in range(2,number):\n",
    "        if number%devisor == 0:\n",
    "            return False\n",
    "    return True\n",
    "user = int(input(\"Enter your number : \"))\n",
    "prime_check = is_prime(user)\n",
    "if prime_check:\n",
    "    print(user, \"Number is Prime\" )\n",
    "else:\n",
    "    print(user, \"Number is Not Prime\" )"
   ]
  },
  {
   "cell_type": "code",
   "execution_count": 16,
   "id": "5d38683c",
   "metadata": {},
   "outputs": [
    {
     "name": "stdout",
     "output_type": "stream",
     "text": [
      "Enter your number : 9\n",
      "Factorial of 9 is 362880\n"
     ]
    }
   ],
   "source": [
    "# Write a Python program that defines a function calculate_factorial to calculate and return the factorial of a\n",
    "# given non-negative integer. The factorial of a number n is the product of all positive integers from 1 to n.\n",
    "# Then, use the function to calculate and print the factorial of a number provided by the user.\n",
    "\n",
    "def calculate_factorial(number):\n",
    "    result = 1\n",
    "    if number == 0:\n",
    "        return result\n",
    "    \n",
    "    for i in range(1,number+1):\n",
    "        result *= i \n",
    "    return result\n",
    "user = int(input(\"Enter your number : \"))\n",
    "print( \"Factorial of\",user,\"is\",calculate_factorial(user))\n",
    "\n"
   ]
  },
  {
   "cell_type": "code",
   "execution_count": 20,
   "id": "9ed85216",
   "metadata": {},
   "outputs": [
    {
     "name": "stdout",
     "output_type": "stream",
     "text": [
      "Enter the number2\n",
      "Enter the power3\n",
      "2 raised to the power 3 is 8\n"
     ]
    }
   ],
   "source": [
    "# Write a Python program that defines a function calculate_power to calculate and return the result of\n",
    "# raising a given number to a specified power. Then, use the function to calculate and print the result of\n",
    "# raising a number provided by the user to a power provided by the user.\n",
    "\n",
    "def calculate_power(num,power):\n",
    "    result = num**power\n",
    "    return result\n",
    "num = int(input(\"Enter the number\"))\n",
    "power = int(input(\"Enter the power\"))\n",
    "power_result = calculate_power(num,power)\n",
    "print(num,\"raised to the power\",power,\"is\",power_result)"
   ]
  },
  {
   "cell_type": "code",
   "execution_count": 23,
   "id": "7bb987b5",
   "metadata": {},
   "outputs": [
    {
     "name": "stdout",
     "output_type": "stream",
     "text": [
      "Enter a series of number seprated by space1 2 3 4 5 \n",
      "the average result of the numbers is 3.0\n"
     ]
    }
   ],
   "source": [
    "# Write a Python program that defines a function calculate_average to calculate and return the average of a list of numbers. \n",
    "# Then, use the function to calculate and print the average of a list of numbers provided by the user.\n",
    "def calculate_average(num):\n",
    "    if not num:\n",
    "        return 0.0\n",
    "    result = sum(num)/len(num)\n",
    "    return result\n",
    "num_list = input(\"Enter a series of number seprated by space\").split()\n",
    "num = [float(num) for num in num_list]\n",
    "average = calculate_average(num)\n",
    "print(\"the average result of the numbers is\" , average)\n"
   ]
  },
  {
   "cell_type": "code",
   "execution_count": 8,
   "id": "5c0e78a9",
   "metadata": {},
   "outputs": [
    {
     "name": "stdout",
     "output_type": "stream",
     "text": [
      "Enter a string abhi ihba\n",
      "The String is a palindrome\n"
     ]
    }
   ],
   "source": [
    "# Write a Python program that defines a function is_palindrome to check if a given string is a palindrome.\n",
    "# A palindrome is a word, phrase, number, or other sequence of characters that reads the same forward and backward \n",
    "# (ignoring spaces, punctuation, and letter casing). The function should return True if the string is a palindrome \n",
    "# and False otherwise. Then, use the function to check and print whether a string provided by the user is a palindrome or not.\n",
    "\n",
    "def is_palindrome(input_string):\n",
    "    input_string = input_string.replace(\" \",\"\").lower()\n",
    "    return input_string == input_string[::-1]\n",
    "user = input(\"Enter a string \")\n",
    "palindrome_check = is_palindrome(user)\n",
    "\n",
    "if palindrome_check:\n",
    "    print(\"The String is a palindrome\")\n",
    "else:\n",
    "    print(\"String is not a palindrome\")"
   ]
  }
 ],
 "metadata": {
  "kernelspec": {
   "display_name": "Python 3 (ipykernel)",
   "language": "python",
   "name": "python3"
  },
  "language_info": {
   "codemirror_mode": {
    "name": "ipython",
    "version": 3
   },
   "file_extension": ".py",
   "mimetype": "text/x-python",
   "name": "python",
   "nbconvert_exporter": "python",
   "pygments_lexer": "ipython3",
   "version": "3.11.5"
  }
 },
 "nbformat": 4,
 "nbformat_minor": 5
}
