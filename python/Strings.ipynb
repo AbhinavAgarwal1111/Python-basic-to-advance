{
 "cells": [
  {
   "cell_type": "code",
   "execution_count": 2,
   "id": "5b38d8dd",
   "metadata": {},
   "outputs": [
    {
     "name": "stdout",
     "output_type": "stream",
     "text": [
      "Eter Your full name abhinav agarwal\n",
      "Initials :  A.A\n"
     ]
    }
   ],
   "source": [
    "# Write a Python program that takes a user's full name as input (e.g., \"John Doe\") and then prints their initials.\n",
    "# The program should capitalize the initials and separate them with periods.\n",
    "\n",
    "user =input(\"Eter Your full name \")\n",
    "\n",
    "name_split = user.split()\n",
    "\n",
    "initials = \"\"\n",
    "\n",
    "for words in name_split:\n",
    "    initials += words[0].upper()+\".\"\n",
    "initials = initials.rstrip(\".\")\n",
    "\n",
    "print(\"Initials : \",initials)"
   ]
  },
  {
   "cell_type": "code",
   "execution_count": 6,
   "id": "26d35695",
   "metadata": {},
   "outputs": [
    {
     "name": "stdout",
     "output_type": "stream",
     "text": [
      "Enter your Text Abhinav Agarwal\n",
      "Number vowels in your text are : 6\n"
     ]
    }
   ],
   "source": [
    "# Write a Python program that takes a sentence as input and counts the number of vowels (both uppercase and lowercase) in the \n",
    "# sentence. Vowels include 'a', 'e', 'i', 'o', and 'u'. The program should then print the total count of vowels in the sentence.\n",
    "\n",
    "user = input(\"Enter your Text \")\n",
    "\n",
    "count = 0\n",
    "vowels = set(\"aeiouAEIOU\")\n",
    "for letters in user:\n",
    "    if letters in vowels:\n",
    "        count += 1\n",
    "print(\"Number vowels in your text are :\",count)"
   ]
  },
  {
   "cell_type": "code",
   "execution_count": 10,
   "id": "d28cc07d",
   "metadata": {},
   "outputs": [
    {
     "name": "stdout",
     "output_type": "stream",
     "text": [
      "Enter your Text ABHIHBA\n",
      "The String is Palindrome\n"
     ]
    }
   ],
   "source": [
    "# Write a Python program that takes a string as input and checks if it is a palindrome.A palindrome is a word, phrase, number, \n",
    "# or other sequence of characters that reads the same forward and backward (ignoring spaces, punctuation, and letter casing).\n",
    "# The program should print \"Palindrome\" if the input string is a palindrome and \"Not a palindrome\" otherwise.\n",
    "\n",
    "user = input(\"Enter your Text \")\n",
    "user = user.replace(\" \",\"\").lower()\n",
    "\n",
    "if user == user[::-1]:\n",
    "    print(\"The String is Palindrome\")\n",
    "else:\n",
    "    print(\"This String is Not a Palindrome\")"
   ]
  },
  {
   "cell_type": "code",
   "execution_count": 12,
   "id": "38426122",
   "metadata": {},
   "outputs": [
    {
     "name": "stdout",
     "output_type": "stream",
     "text": [
      "Enter the Text This is a sample sentence\n",
      "Total words 5\n"
     ]
    }
   ],
   "source": [
    "# Write a Python program that takes a sentence as input and counts the number of words in the sentence. \n",
    "# The program should then print the total count of words in the sentence.\n",
    "user = input(\"Enter the Text \")\n",
    "user = user.split()\n",
    "count=0\n",
    "\n",
    "for words in user:\n",
    "    count +=1\n",
    "print(\"Total words\", count)"
   ]
  },
  {
   "cell_type": "code",
   "execution_count": 19,
   "id": "f5192151",
   "metadata": {},
   "outputs": [
    {
     "name": "stdout",
     "output_type": "stream",
     "text": [
      "Enter the Text AbhinaV agArwal\n",
      "Abhinav Agarwal\n"
     ]
    }
   ],
   "source": [
    "# Write a Python program that takes a sentence as input and capitalizes the first letter of each word in the sentence. \n",
    "# The program should then print the modified sentence with each word's first letter capitalized.\n",
    "user = input(\"Enter the Text \")\n",
    "user = user.split()\n",
    "capitalized_sentence = ' '.join([word.capitalize() for word in user])\n",
    "print(capitalized_sentence)"
   ]
  },
  {
   "cell_type": "code",
   "execution_count": 26,
   "id": "ee4f54bd",
   "metadata": {},
   "outputs": [
    {
     "name": "stdout",
     "output_type": "stream",
     "text": [
      "Enter the Text Write a Python program that takes a sentence as input and counts the number of occurrences of a specific word within the  # sentence. The program should then print the count of that word.\n",
      "Enter the word you want to search program\n",
      "The word 'program' appears 2 times in the sentence.\n"
     ]
    }
   ],
   "source": [
    "# Write a Python program that takes a sentence as input and counts the number of occurrences of a specific word within the \n",
    "# sentence. The program should then print the count of that word.\n",
    "user = input(\"Enter the Text \")\n",
    "words = user.split()\n",
    "target = input(\"Enter the word you want to search \").lower()\n",
    "count = 0\n",
    "for word in words:\n",
    "    if word == target:\n",
    "        count += 1\n",
    "print(f\"The word '{target}' appears {count} times in the sentence.\")"
   ]
  },
  {
   "cell_type": "code",
   "execution_count": null,
   "id": "def0d5bb",
   "metadata": {},
   "outputs": [],
   "source": []
  }
 ],
 "metadata": {
  "kernelspec": {
   "display_name": "Python 3 (ipykernel)",
   "language": "python",
   "name": "python3"
  },
  "language_info": {
   "codemirror_mode": {
    "name": "ipython",
    "version": 3
   },
   "file_extension": ".py",
   "mimetype": "text/x-python",
   "name": "python",
   "nbconvert_exporter": "python",
   "pygments_lexer": "ipython3",
   "version": "3.11.5"
  }
 },
 "nbformat": 4,
 "nbformat_minor": 5
}
