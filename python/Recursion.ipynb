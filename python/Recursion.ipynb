{
 "cells": [
  {
   "cell_type": "code",
   "execution_count": 4,
   "id": "c5778d9c",
   "metadata": {},
   "outputs": [
    {
     "name": "stdout",
     "output_type": "stream",
     "text": [
      "120\n"
     ]
    }
   ],
   "source": [
    "# The factorial of a non-negative integer n is the product of all positive integers less than or equal to n. It is denoted by n!\n",
    "\n",
    "def Factorial(n):\n",
    "    if n == 0:\n",
    "        return 1\n",
    "    return n * Factorial(n-1)\n",
    "\n",
    "print(Factorial(5))\n",
    "    "
   ]
  },
  {
   "cell_type": "code",
   "execution_count": 13,
   "id": "79a0d127",
   "metadata": {},
   "outputs": [
    {
     "name": "stdout",
     "output_type": "stream",
     "text": [
      "8\n"
     ]
    }
   ],
   "source": [
    "# Write a Python function using recursion to find the nth number in the Fibonacci series.\n",
    "# The Fibonacci sequence is characterized by the fact that every number after the first two is the sum of the two preceding ones\n",
    "# The sequence starts with 0 and 1.\n",
    "\n",
    "def Fib(n):\n",
    "    if n == 0 or n == 1:\n",
    "        return n\n",
    "    return Fib(n-1) + Fib(n-2)\n",
    "\n",
    "print(Fib(6))"
   ]
  },
  {
   "cell_type": "code",
   "execution_count": null,
   "id": "f95e3c12",
   "metadata": {},
   "outputs": [],
   "source": []
  }
 ],
 "metadata": {
  "kernelspec": {
   "display_name": "Python 3 (ipykernel)",
   "language": "python",
   "name": "python3"
  },
  "language_info": {
   "codemirror_mode": {
    "name": "ipython",
    "version": 3
   },
   "file_extension": ".py",
   "mimetype": "text/x-python",
   "name": "python",
   "nbconvert_exporter": "python",
   "pygments_lexer": "ipython3",
   "version": "3.11.5"
  }
 },
 "nbformat": 4,
 "nbformat_minor": 5
}
