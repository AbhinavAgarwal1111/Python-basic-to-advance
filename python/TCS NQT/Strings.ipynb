{
 "cells": [
  {
   "cell_type": "code",
   "execution_count": 19,
   "id": "014964fd",
   "metadata": {},
   "outputs": [
    {
     "name": "stdout",
     "output_type": "stream",
     "text": [
      "Abhinav \\: vanihba is Palindrome\n"
     ]
    }
   ],
   "source": [
    "# Write a Python function to check if a given string is a palindrome. \n",
    "\n",
    "def Palindrome_String(s):\n",
    "    s = s.lower()\n",
    "    s = ''.join(filter(str.isalnum, s))\n",
    "    rev_str = s[::-1]\n",
    "    \n",
    "    if s == rev_str:\n",
    "        return \"Palindrome\"\n",
    "    return \"Not a Palindrome\"\n",
    "\n",
    "string = \"Abhinav \\: vanihba\"\n",
    "pal = Palindrome_String(string)\n",
    "print(string ,\"is\", pal)"
   ]
  },
  {
   "cell_type": "code",
   "execution_count": 29,
   "id": "c68ff0b2",
   "metadata": {},
   "outputs": [
    {
     "name": "stdout",
     "output_type": "stream",
     "text": [
      "True\n"
     ]
    }
   ],
   "source": [
    "# Given two strings, write a Python function to check if one string is a rotation of the other.\n",
    "\n",
    "def String_rotation(s1,s2):\n",
    "    if len(s1) != len(s2):\n",
    "        return False\n",
    "    elif s2 in s1+s1:\n",
    "        return True\n",
    "\n",
    "str1 = \"abhinav\"\n",
    "str2 = \"hinavab\"\n",
    "\n",
    "str_rot = String_rotation(str1,str2)\n",
    "print(str_rot)\n",
    "    "
   ]
  }
 ],
 "metadata": {
  "kernelspec": {
   "display_name": "Python 3 (ipykernel)",
   "language": "python",
   "name": "python3"
  },
  "language_info": {
   "codemirror_mode": {
    "name": "ipython",
    "version": 3
   },
   "file_extension": ".py",
   "mimetype": "text/x-python",
   "name": "python",
   "nbconvert_exporter": "python",
   "pygments_lexer": "ipython3",
   "version": "3.11.5"
  }
 },
 "nbformat": 4,
 "nbformat_minor": 5
}
