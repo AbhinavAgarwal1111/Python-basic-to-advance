{
 "cells": [
  {
   "cell_type": "code",
   "execution_count": 2,
   "id": "8dd80c47",
   "metadata": {},
   "outputs": [
    {
     "name": "stdout",
     "output_type": "stream",
     "text": [
      "6\n"
     ]
    }
   ],
   "source": [
    "#Question 1: Finding the Maximum Value\n",
    "\n",
    "def find_max(arr):\n",
    "    max_value = 0\n",
    "    for num in arr:\n",
    "        if num > max_value:\n",
    "            max_value = num\n",
    "    return max_value\n",
    "my_arr = [1,2,3,6,4,0]\n",
    "maximum = find_max(my_arr)\n",
    "print(maximum)"
   ]
  },
  {
   "cell_type": "code",
   "execution_count": 7,
   "id": "6e9932cf",
   "metadata": {},
   "outputs": [
    {
     "name": "stdout",
     "output_type": "stream",
     "text": [
      "[0, 4, 6, 3, 2, 1]\n"
     ]
    }
   ],
   "source": [
    "# Question 2: Reversing an Array\n",
    "\n",
    "def rev_arr(arr):\n",
    "    reverse = arr[::-1]\n",
    "    return reverse\n",
    "\n",
    "my_arr = [1,2,3,6,4,0]\n",
    "rev = rev_arr(my_arr)\n",
    "print(rev)"
   ]
  },
  {
   "cell_type": "code",
   "execution_count": 9,
   "id": "a077873a",
   "metadata": {},
   "outputs": [
    {
     "name": "stdout",
     "output_type": "stream",
     "text": [
      "[3]\n"
     ]
    }
   ],
   "source": [
    "# Question 3: Finding Duplicates\n",
    "\n",
    "def finding_duplicates(arr):\n",
    "    unique_value = set()\n",
    "    duplicate = []\n",
    "    \n",
    "    for element in arr:\n",
    "        if element in unique_value:\n",
    "            duplicate.append(element)\n",
    "        else:\n",
    "            unique_value.add(element)\n",
    "            \n",
    "    return duplicate\n",
    "\n",
    "my_arr = [1,2,3,6,4,0,3]\n",
    "dup = finding_duplicates(my_arr)\n",
    "print(dup)"
   ]
  },
  {
   "cell_type": "code",
   "execution_count": 10,
   "id": "5faf7e2a",
   "metadata": {},
   "outputs": [
    {
     "name": "stdout",
     "output_type": "stream",
     "text": [
      "19\n"
     ]
    }
   ],
   "source": [
    "# Question 4: Finding the Sum\n",
    "\n",
    "def Sum(arr):\n",
    "    total = 0\n",
    "    for num in arr:\n",
    "        total += num\n",
    "    return total\n",
    "sum_arr = Sum(my_arr)\n",
    "print(sum_arr)"
   ]
  },
  {
   "cell_type": "code",
   "execution_count": 27,
   "id": "78d4cc57",
   "metadata": {},
   "outputs": [
    {
     "name": "stdout",
     "output_type": "stream",
     "text": [
      "[0, 1, 2, 3, 4, 6]\n"
     ]
    }
   ],
   "source": [
    "# Question 5: Removing Duplicates\n",
    "\n",
    "def remove_duplicate(arr):\n",
    "    unique_value = []\n",
    "    \n",
    "    for element in arr:\n",
    "        if element not in unique_value:\n",
    "            unique_value.append(element)\n",
    "    return unique_value\n",
    "\n",
    "unique = remove_duplicate(my_arr)\n",
    "print(unique)"
   ]
  },
  {
   "cell_type": "code",
   "execution_count": 31,
   "id": "eb5ce8ea",
   "metadata": {},
   "outputs": [
    {
     "name": "stdout",
     "output_type": "stream",
     "text": [
      "[0, 1, 2, 3, 3, 4, 6]\n",
      "4\n"
     ]
    }
   ],
   "source": [
    "# Question 6: Counting Even Numbers\n",
    "# Write a Python function that counts the number of even numbers in an array.\n",
    "\n",
    "def even(arr):\n",
    "    count = 0\n",
    "    for element in arr:\n",
    "        if element % 2 == 0:\n",
    "            count += 1\n",
    "    return count\n",
    "\n",
    "even_counter = even(my_arr)\n",
    "print(my_arr)\n",
    "print(even_counter)"
   ]
  },
  {
   "cell_type": "code",
   "execution_count": 35,
   "id": "a7bfc548",
   "metadata": {},
   "outputs": [
    {
     "name": "stdout",
     "output_type": "stream",
     "text": [
      "4\n"
     ]
    }
   ],
   "source": [
    "# Question 7: Finding the Second Largest Element\n",
    "# Write a Python function that finds the second largest element in an array.\n",
    "\n",
    "def second_largest(arr):\n",
    "    if len(arr) < 2:\n",
    "        return none\n",
    "    largest = second_largest = float(\"-inf\")\n",
    "    for num in arr:\n",
    "        if num > largest:\n",
    "            second_largest = largest\n",
    "            largest = num\n",
    "        elif num > second_largest and num != largest:\n",
    "            second_largest = num\n",
    "    return second_largest\n",
    "\n",
    "second = second_largest(my_arr)\n",
    "print(second)"
   ]
  },
  {
   "cell_type": "code",
   "execution_count": 41,
   "id": "848dc65e",
   "metadata": {},
   "outputs": [
    {
     "name": "stdout",
     "output_type": "stream",
     "text": [
      "Is it a palindrome? True\n"
     ]
    }
   ],
   "source": [
    "# Question 9: Checking for Palindrome\n",
    "# Write a Python function that checks if an array is a palindrome, meaning it reads the same forwards and backwards.\n",
    "\n",
    "def Palindrome(arr):\n",
    "    reversed_arr = arr[::-1]\n",
    "        \n",
    "    return arr == reversed_arr\n",
    "\n",
    "my_array = [1,2,3,4,5,4,3,2,1]\n",
    "is_palindrome_result = Palindrome(my_array)\n",
    "print(\"Is it a palindrome?\", is_palindrome_result)"
   ]
  },
  {
   "cell_type": "code",
   "execution_count": 49,
   "id": "e2cf0efd",
   "metadata": {},
   "outputs": [
    {
     "name": "stdout",
     "output_type": "stream",
     "text": [
      "dlroW , olleH\n"
     ]
    }
   ],
   "source": [
    "# Write a Python function to reverse a given string.\n",
    "\n",
    "def Rev(s):\n",
    "    return s[::-1]\n",
    "\n",
    "my_str = \"Hello , World\"\n",
    "reva = Rev(my_str)\n",
    "print(reva)"
   ]
  },
  {
   "cell_type": "code",
   "execution_count": 59,
   "id": "e664bd8d",
   "metadata": {},
   "outputs": [
    {
     "name": "stdout",
     "output_type": "stream",
     "text": [
      "The String provided is Palindrome\n"
     ]
    }
   ],
   "source": [
    "# Write a Python function to check if a given string is a palindrome. \n",
    "\n",
    "def palindrom_string(s):\n",
    "    s = s.lower()\n",
    "    s = ''.join(filter(str.isalnum, s))\n",
    "    rev_s = s[::-1]\n",
    "    \n",
    "    if s == rev_s:\n",
    "        return \"Palindrome\"\n",
    "    else:\n",
    "        return \"Not a Palindrome\"\n",
    "\n",
    "my_str = \"A man, a plan, a canal, Panama\"\n",
    "pal = palindrom_string(my_str)\n",
    "print(\"The String provided is\" , pal)"
   ]
  },
  {
   "cell_type": "code",
   "execution_count": 64,
   "id": "1117cae6",
   "metadata": {},
   "outputs": [
    {
     "name": "stdout",
     "output_type": "stream",
     "text": [
      "49\n"
     ]
    }
   ],
   "source": [
    "# Write a Python function to find the maximum sum of a contiguous subarray within an array. \n",
    "# This is known as the \"maximum subarray problem.\"\n",
    "\n",
    "def max_subarray_sum(arr):\n",
    "    max_sum = float('-inf')\n",
    "    current_max = 0\n",
    "    \n",
    "    for num in arr:\n",
    "        current_max = max(num , current_max + num)\n",
    "        max_sum = max(max_sum,current_max)\n",
    "    \n",
    "    return max_sum\n",
    "\n",
    "my_arr = [1,2,-23,4,45,-6]\n",
    "maximum = max_subarray_sum(my_arr)\n",
    "print(maximum)"
   ]
  },
  {
   "cell_type": "code",
   "execution_count": 73,
   "id": "051b2999",
   "metadata": {},
   "outputs": [
    {
     "name": "stdout",
     "output_type": "stream",
     "text": [
      "49680\n"
     ]
    }
   ],
   "source": [
    "# Write a Python function to find the contiguous subarray within an array that has the largest product.\n",
    "\n",
    "def max_subarray_product(num):\n",
    "    max_product = num[0]\n",
    "    current_max = num[0]\n",
    "    current_min = num[0]\n",
    "    for i in range(1,len(num)):\n",
    "        if num[i] < 0:\n",
    "            current_max, current_min = current_min, current_max\n",
    "        current_max = max(num[i], current_max * num[i])\n",
    "        current_min = min(num[i], current_min * num[i])\n",
    "        max_product = max(max_product, current_max)\n",
    "        \n",
    "    return(max_product)\n",
    "    \n",
    "my_arr = [1,2,-23,4,45,-6]\n",
    "maximum = max_subarray_product(my_arr)\n",
    "print(maximum)"
   ]
  },
  {
   "cell_type": "code",
   "execution_count": 76,
   "id": "e5414ce8",
   "metadata": {},
   "outputs": [
    {
     "name": "stdout",
     "output_type": "stream",
     "text": [
      "13\n"
     ]
    }
   ],
   "source": [
    "# Write a Python function that takes a list of positive integers and finds the largest sum of non-adjacent numbers.\n",
    "# In other words, you want to find the maximum sum of elements from the list where no two elements are adjacent.\n",
    "\n",
    "def max_non_adjacent_sum(nums):\n",
    "    def max_sum(arr, i):\n",
    "        if i < 0:\n",
    "            return 0\n",
    "        include_i = arr[i] + max_sum(arr, i - 2)\n",
    "        exclude_i = max_sum(arr, i - 1)\n",
    "        return max(include_i, exclude_i)\n",
    "\n",
    "    n = len(nums)\n",
    "    return max(max_sum(nums, n - 1), max_sum(nums, n - 2))\n",
    "\n",
    "my_arr = [2, 4, 6, 2, 5]\n",
    "largest_sum = max_non_adjacent_sum(my_arr)\n",
    "print(largest_sum)"
   ]
  }
 ],
 "metadata": {
  "kernelspec": {
   "display_name": "Python 3 (ipykernel)",
   "language": "python",
   "name": "python3"
  },
  "language_info": {
   "codemirror_mode": {
    "name": "ipython",
    "version": 3
   },
   "file_extension": ".py",
   "mimetype": "text/x-python",
   "name": "python",
   "nbconvert_exporter": "python",
   "pygments_lexer": "ipython3",
   "version": "3.11.5"
  }
 },
 "nbformat": 4,
 "nbformat_minor": 5
}
