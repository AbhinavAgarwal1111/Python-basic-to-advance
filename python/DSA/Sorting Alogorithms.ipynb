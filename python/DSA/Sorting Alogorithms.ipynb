{
 "cells": [
  {
   "cell_type": "markdown",
   "id": "2177b046",
   "metadata": {},
   "source": [
    "# Bubble Sort\n"
   ]
  },
  {
   "cell_type": "code",
   "execution_count": 18,
   "id": "9c80de5b",
   "metadata": {},
   "outputs": [],
   "source": [
    "def bubble_sort(elements):\n",
    "    size = len(elements)\n",
    "    for i in range(size-1):\n",
    "        for j in range(size - 1):\n",
    "            if elements[j] > elements[j+1]:\n",
    "                temp = elements[j]\n",
    "                elements[j] = elements[j+1]\n",
    "                elements[j+1] = temp\n",
    "            "
   ]
  },
  {
   "cell_type": "code",
   "execution_count": 19,
   "id": "ffac1f78",
   "metadata": {},
   "outputs": [
    {
     "name": "stdout",
     "output_type": "stream",
     "text": [
      "[2, 12, 30, 30, 34, 36, 45, 54, 54, 55, 87]\n"
     ]
    }
   ],
   "source": [
    "elements = [36,54,12,30,2,87,34,45,54,55,30]\n",
    "bubble_sort(elements)\n",
    "print(elements)"
   ]
  },
  {
   "cell_type": "markdown",
   "id": "d46cd854",
   "metadata": {},
   "source": [
    "# Quick Sort"
   ]
  },
  {
   "cell_type": "code",
   "execution_count": null,
   "id": "87a68a3a",
   "metadata": {},
   "outputs": [],
   "source": []
  }
 ],
 "metadata": {
  "kernelspec": {
   "display_name": "Python 3 (ipykernel)",
   "language": "python",
   "name": "python3"
  },
  "language_info": {
   "codemirror_mode": {
    "name": "ipython",
    "version": 3
   },
   "file_extension": ".py",
   "mimetype": "text/x-python",
   "name": "python",
   "nbconvert_exporter": "python",
   "pygments_lexer": "ipython3",
   "version": "3.11.5"
  }
 },
 "nbformat": 4,
 "nbformat_minor": 5
}
