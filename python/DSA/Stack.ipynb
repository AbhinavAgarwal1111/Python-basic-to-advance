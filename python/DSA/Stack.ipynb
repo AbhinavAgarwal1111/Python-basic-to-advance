{
 "cells": [
  {
   "cell_type": "code",
   "execution_count": 1,
   "id": "78c2fa75",
   "metadata": {},
   "outputs": [],
   "source": [
    "from collections import deque\n",
    "stack = deque"
   ]
  },
  {
   "cell_type": "code",
   "execution_count": 3,
   "id": "8ba06bfe",
   "metadata": {},
   "outputs": [
    {
     "data": {
      "text/plain": [
       "['__add__',\n",
       " '__class__',\n",
       " '__class_getitem__',\n",
       " '__contains__',\n",
       " '__copy__',\n",
       " '__delattr__',\n",
       " '__delitem__',\n",
       " '__dir__',\n",
       " '__doc__',\n",
       " '__eq__',\n",
       " '__format__',\n",
       " '__ge__',\n",
       " '__getattribute__',\n",
       " '__getitem__',\n",
       " '__getstate__',\n",
       " '__gt__',\n",
       " '__hash__',\n",
       " '__iadd__',\n",
       " '__imul__',\n",
       " '__init__',\n",
       " '__init_subclass__',\n",
       " '__iter__',\n",
       " '__le__',\n",
       " '__len__',\n",
       " '__lt__',\n",
       " '__mul__',\n",
       " '__ne__',\n",
       " '__new__',\n",
       " '__reduce__',\n",
       " '__reduce_ex__',\n",
       " '__repr__',\n",
       " '__reversed__',\n",
       " '__rmul__',\n",
       " '__setattr__',\n",
       " '__setitem__',\n",
       " '__sizeof__',\n",
       " '__str__',\n",
       " '__subclasshook__',\n",
       " 'append',\n",
       " 'appendleft',\n",
       " 'clear',\n",
       " 'copy',\n",
       " 'count',\n",
       " 'extend',\n",
       " 'extendleft',\n",
       " 'index',\n",
       " 'insert',\n",
       " 'maxlen',\n",
       " 'pop',\n",
       " 'popleft',\n",
       " 'remove',\n",
       " 'reverse',\n",
       " 'rotate']"
      ]
     },
     "execution_count": 3,
     "metadata": {},
     "output_type": "execute_result"
    }
   ],
   "source": [
    "dir(stack)"
   ]
  },
  {
   "cell_type": "code",
   "execution_count": 76,
   "id": "9dbfbaca",
   "metadata": {},
   "outputs": [],
   "source": [
    "class Stack:\n",
    "    def __init__(self):\n",
    "        self.container = deque()\n",
    "    \n",
    "    def push(self, val):\n",
    "        self.container.append(val)\n",
    "        \n",
    "    def pop(self):\n",
    "        return self.container.pop()\n",
    "    \n",
    "    def peek(self):\n",
    "        return self.container[-1]\n",
    "    \n",
    "    def is_empty(self):\n",
    "        return len(self.container) == 0\n",
    "    \n",
    "    def size(self):\n",
    "        return len(self.container)\n",
    "        "
   ]
  },
  {
   "cell_type": "code",
   "execution_count": 87,
   "id": "58a3cc30",
   "metadata": {},
   "outputs": [],
   "source": [
    "# Write a function in python that can reverse a string using stack data structure.\n",
    "# reverse_string(\"We will conquere COVID-19\") should return \"91-DIVOC ereuqnoc lliw eW\"\n",
    "\n",
    "\n",
    "def reverse_string(s):\n",
    "    stack = Stack() \n",
    "    \n",
    "    for ch in s:\n",
    "        stack.push(ch)\n",
    "        \n",
    "    rstr = ''\n",
    "    while stack.size() != 0:\n",
    "        rstr += stack.pop()\n",
    "    return rstr"
   ]
  },
  {
   "cell_type": "code",
   "execution_count": 88,
   "id": "784a5155",
   "metadata": {},
   "outputs": [
    {
     "name": "stdout",
     "output_type": "stream",
     "text": [
      "91-IVOC reuqnoc lliw eW\n",
      "gnik eht ma I\n"
     ]
    }
   ],
   "source": [
    "if __name__ == '__main__':\n",
    "    print(reverse_string(\"We will conquer COVI-19\"))\n",
    "    print(reverse_string(\"I am the king\"))"
   ]
  },
  {
   "cell_type": "code",
   "execution_count": 106,
   "id": "5589b117",
   "metadata": {},
   "outputs": [],
   "source": [
    "# Write a function in python that checks if paranthesis in the string are balanced or not. \n",
    "# is_balanced(\"({a+b})\")     --> True\n",
    "# is_balanced(\"))((a+b}{\")   --> False\n",
    "# is_balanced(\"((a+b))\")     --> True\n",
    "# is_balanced(\"))\")          --> False\n",
    "# is_balanced(\"[a+b]*(x+2y)*{gg+kk}\") --> True\n",
    "\n",
    "\n",
    "def is_match(ch1, ch2):\n",
    "    match_dict = {\n",
    "        ')' : '(',\n",
    "        ']' : '[',\n",
    "        '}' : '{'\n",
    "    }\n",
    "    return match_dict[ch1] == ch2\n",
    "    \n",
    "def is_balanced(s):\n",
    "    stack = Stack()\n",
    "    \n",
    "    for ch in s:\n",
    "        if ch == '(' or ch == '[' or ch == '{':\n",
    "            stack.push(ch)\n",
    "        if ch == ')' or ch == ']' or ch == '}':\n",
    "            if stack.size() == 0:\n",
    "                return False\n",
    "            if not is_match(ch, stack.pop()):\n",
    "                return False\n",
    "            \n",
    "    return stack.size() ==0"
   ]
  },
  {
   "cell_type": "code",
   "execution_count": 107,
   "id": "7669b0eb",
   "metadata": {},
   "outputs": [
    {
     "name": "stdout",
     "output_type": "stream",
     "text": [
      "True\n",
      "False\n",
      "True\n",
      "True\n",
      "False\n",
      "True\n"
     ]
    }
   ],
   "source": [
    "if __name__ == '__main__':\n",
    "    print(is_balanced(\"({a+b})\"))\n",
    "    print(is_balanced(\"))((a+b}{\"))\n",
    "    print(is_balanced(\"((a+b))\"))\n",
    "    print(is_balanced(\"((a+g))\"))\n",
    "    print(is_balanced(\"))\"))\n",
    "    print(is_balanced(\"[a+b]*(x+2y)*{gg+kk}\"))"
   ]
  }
 ],
 "metadata": {
  "kernelspec": {
   "display_name": "Python 3 (ipykernel)",
   "language": "python",
   "name": "python3"
  },
  "language_info": {
   "codemirror_mode": {
    "name": "ipython",
    "version": 3
   },
   "file_extension": ".py",
   "mimetype": "text/x-python",
   "name": "python",
   "nbconvert_exporter": "python",
   "pygments_lexer": "ipython3",
   "version": "3.11.5"
  }
 },
 "nbformat": 4,
 "nbformat_minor": 5
}
