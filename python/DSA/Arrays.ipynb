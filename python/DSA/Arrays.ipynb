{
 "cells": [
  {
   "cell_type": "code",
   "execution_count": 10,
   "id": "b7603914",
   "metadata": {},
   "outputs": [
    {
     "name": "stdout",
     "output_type": "stream",
     "text": [
      "The sum of all the numbers is 30\n"
     ]
    }
   ],
   "source": [
    "#Write a Python program that calculates the sum of all the elements in a given list of numbers\n",
    "num = [1,3,4,6,7,9]\n",
    "sum = 0\n",
    "for numbers in num:\n",
    "    sum += numbers\n",
    "print(\"The sum of all the numbers is\",sum)"
   ]
  },
  {
   "cell_type": "code",
   "execution_count": 16,
   "id": "74e1c147",
   "metadata": {},
   "outputs": [
    {
     "name": "stdout",
     "output_type": "stream",
     "text": [
      "Largest number in the given array is 9\n"
     ]
    }
   ],
   "source": [
    "#Write a Python program that finds and prints the largest number in a given list of numbers.\n",
    "num = [1,3,4,6,7,9]\n",
    "largest_num = num[0]\n",
    "for number in num:\n",
    "    if number > largest_num:\n",
    "        largest_num = number\n",
    "print(\"Largest number in the given array is\",largest_num)\n",
    "        "
   ]
  },
  {
   "cell_type": "code",
   "execution_count": 21,
   "id": "03eb3b82",
   "metadata": {},
   "outputs": [
    {
     "name": "stdout",
     "output_type": "stream",
     "text": [
      "number of even numbers in the given list is 3\n"
     ]
    }
   ],
   "source": [
    "#Write a Python program that counts and prints the number of even numbers in a given list of integers.\n",
    "num = [1,3,4,6,7,9,12,13]\n",
    "count = 0\n",
    "for number in num:\n",
    "    if number%2==0:\n",
    "        count +=1\n",
    "print(\"number of even numbers in the given list is\",count)"
   ]
  },
  {
   "cell_type": "code",
   "execution_count": 34,
   "id": "aac8a69a",
   "metadata": {},
   "outputs": [
    {
     "name": "stdout",
     "output_type": "stream",
     "text": [
      "13\n",
      "12\n",
      "9\n",
      "7\n",
      "reversed list is [13, 12, 9, 7, 6, 4, 3, 1]\n"
     ]
    }
   ],
   "source": [
    "#Reverses a given list of numbers in place. In other words, modify the original list to have its elements in reverse order.\n",
    "num = [1,3,4,6,7,9,12,13]\n",
    "left = 0\n",
    "right = len(num) - 1\n",
    "while left < right:\n",
    "    num[left],num[right] = num[right],num[left]\n",
    "    left +=1\n",
    "    right -=1\n",
    "print(\"reversed list is\",num)"
   ]
  },
  {
   "cell_type": "code",
   "execution_count": 34,
   "id": "9d9b8e4f",
   "metadata": {},
   "outputs": [
    {
     "name": "stdout",
     "output_type": "stream",
     "text": [
      "second smallest number in the list is [3, 3]\n"
     ]
    }
   ],
   "source": [
    "#prints the second smallest number in a given list of integers.consider all duplicates.\n",
    "num = [1,3,4,6,7,9,12,3,13]\n",
    "smallest = float('inf')\n",
    "second_smallest = float('inf')\n",
    "for number in num:\n",
    "    if number < smallest:\n",
    "        second_smallest = smallest\n",
    "        smallest = number\n",
    "    elif number < second_smallest and number != smallest:\n",
    "        second_smallest = number\n",
    "second_smallest_numbers = [number for number in num if number == second_smallest]\n",
    "print(\"second smallest number in the list is\",second_smallest_numbers)\n"
   ]
  },
  {
   "cell_type": "code",
   "execution_count": 35,
   "id": "ab014a8d",
   "metadata": {},
   "outputs": [
    {
     "name": "stdout",
     "output_type": "stream",
     "text": [
      "removed duplicated [1, 3, 4, 6, 7, 9, 12, 13]\n"
     ]
    }
   ],
   "source": [
    "#Removes all duplicates from a given list of numbers while preserving the original order of the remaining unique numbers.\n",
    "num = [1,3,4,6,7,9,12,3,13]\n",
    "unique_num = []\n",
    "for number in num:\n",
    "    if number not in unique_num:\n",
    "        unique_num.append(number)\n",
    "num = unique_num\n",
    "print(\"removed duplicated\",num)"
   ]
  },
  {
   "cell_type": "code",
   "execution_count": 38,
   "id": "16c27503",
   "metadata": {},
   "outputs": [
    {
     "name": "stdout",
     "output_type": "stream",
     "text": [
      "all the common element in both list [3, 4, 5]\n"
     ]
    }
   ],
   "source": [
    "# Write a Python program that finds and prints the common elements between two lists of numbers. In other words,\n",
    "# given two lists,the program should identify and display the numbers that appear in both lists.\n",
    "list1 = [1, 2, 3, 4, 5]\n",
    "list2 = [3, 4, 5, 6, 7]\n",
    "common_element=[]\n",
    "\n",
    "for element in list1:\n",
    "    if element in list2:\n",
    "        common_element.append(element)\n",
    "print(\"all the common element in both list\",common_element)"
   ]
  },
  {
   "cell_type": "code",
   "execution_count": 7,
   "id": "264d6ed1",
   "metadata": {},
   "outputs": [
    {
     "name": "stdout",
     "output_type": "stream",
     "text": [
      "True\n"
     ]
    }
   ],
   "source": [
    "# Write a Python program that checks if a given list of numbers is sorted in ascending order.\n",
    "# The program should return True if the list is sorted in ascending order and False otherwise.\n",
    "list1 = [1,2,3,4,5,6]\n",
    "sort = True\n",
    "for i in range(len(list1)-1):\n",
    "    if list1[i] > list1[i+1]:\n",
    "        sort = False\n",
    "print(sort)\n",
    "    "
   ]
  },
  {
   "cell_type": "code",
   "execution_count": 17,
   "id": "8fa6eea1",
   "metadata": {},
   "outputs": [
    {
     "name": "stdout",
     "output_type": "stream",
     "text": [
      "enter the target element3\n",
      "index of the first occurance of given element 5\n"
     ]
    }
   ],
   "source": [
    "# Write a Python program that finds and prints the index of the first occurrence of a given element in a list of numbers.\n",
    "# If the element is not found in the list, the program should print -1.\n",
    "num = [1,2,4,5,6,3]\n",
    "target = int(input(\"enter the target element \"))\n",
    "\n",
    "index = -1\n",
    "\n",
    "for i in range(len(num)):\n",
    "    if num[i] == target:\n",
    "        index = i\n",
    "        break\n",
    "print(\"index of the first occurance of given element\",index)"
   ]
  },
  {
   "cell_type": "code",
   "execution_count": 31,
   "id": "5d9a6077",
   "metadata": {},
   "outputs": [
    {
     "name": "stdout",
     "output_type": "stream",
     "text": [
      "smallest missing number is  7\n"
     ]
    }
   ],
   "source": [
    "# #Write a Python program that finds and prints the smallest positive integer that is not present in a given list of\n",
    "# positive integers. If all positive integers are present in the list, the program should print the next positive integer\n",
    "\n",
    "list1 = [1,2,4,5,6,3]\n",
    "smallest_missing = 1\n",
    "\n",
    "for i in sorted(list1):\n",
    "    if i == smallest_missing:\n",
    "        smallest_missing += 1\n",
    "print(\"smallest missing number is \",smallest_missing)\n",
    "        \n"
   ]
  },
  {
   "cell_type": "code",
   "execution_count": 32,
   "id": "22537188",
   "metadata": {},
   "outputs": [
    {
     "name": "stdout",
     "output_type": "stream",
     "text": [
      "product of number is 720\n"
     ]
    }
   ],
   "source": [
    "#Write a Python program that calculates and prints the product of all the elements in a given list of numbers.\n",
    "num = [1,2,4,5,6,3]\n",
    "product = 1\n",
    "\n",
    "for number in num:\n",
    "    product *= number\n",
    "print(\"product of number is\", product)"
   ]
  },
  {
   "cell_type": "code",
   "execution_count": 35,
   "id": "8d582de1",
   "metadata": {},
   "outputs": [
    {
     "name": "stdout",
     "output_type": "stream",
     "text": [
      "largest product in this given list is  30\n"
     ]
    }
   ],
   "source": [
    "#Write a Python program that finds and prints the largest product of any two distinct elements in a given list of integers.\n",
    "num = [1,2,4,5,6,3]\n",
    "largest_product = None\n",
    "for i in range(len(num)):\n",
    "    for j in range(i+1,len(num)):\n",
    "        product = num[i]*num[j]\n",
    "        if largest_product is None or product > largest_product:\n",
    "            largest_product = product\n",
    "print(\"largest product in this given list is \",largest_product)"
   ]
  },
  {
   "cell_type": "code",
   "execution_count": 4,
   "id": "11dd9b5f",
   "metadata": {},
   "outputs": [
    {
     "name": "stdout",
     "output_type": "stream",
     "text": [
      "sum of all the even numbers in the list are 12\n"
     ]
    }
   ],
   "source": [
    "# Write a Python program that calculates and prints the sum of all the even numbers in a given list of integers.\n",
    "num = [1,2,4,5,6,3]\n",
    "sum = 0\n",
    "\n",
    "for number in num:\n",
    "    if number % 2 == 0:\n",
    "        sum += number\n",
    "print(\"sum of all the even numbers in the list are\",sum)"
   ]
  },
  {
   "cell_type": "code",
   "execution_count": 5,
   "id": "9c2497f5",
   "metadata": {},
   "outputs": [
    {
     "name": "stdout",
     "output_type": "stream",
     "text": [
      "number of time 3 apperd is 2\n"
     ]
    }
   ],
   "source": [
    "#Write a Python program that counts and prints the number of times a given element appears in a list of numbers.\n",
    "num = [1,2,3,4,5,6,3]\n",
    "target= 3\n",
    "count = 0\n",
    "\n",
    "for number in num:\n",
    "    if number == target:\n",
    "        count += 1\n",
    "print(\"number of time\",target,\"apperd is\",count)"
   ]
  },
  {
   "cell_type": "code",
   "execution_count": 6,
   "id": "870be594",
   "metadata": {},
   "outputs": [
    {
     "name": "stdout",
     "output_type": "stream",
     "text": [
      "the smallest number is 1\n"
     ]
    }
   ],
   "source": [
    "#Write a Python program that finds and prints the smallest element in a given list of numbers.\n",
    "num = [1,2,3,4,5,6,3]\n",
    "smallest_num = None\n",
    "\n",
    "for number in num:\n",
    "    if smallest_num is None or number < smallest_num:\n",
    "        smallest_num = number\n",
    "print(\"the smallest number is\",smallest_num)\n",
    "\n"
   ]
  },
  {
   "cell_type": "code",
   "execution_count": 14,
   "id": "5ecc05c7",
   "metadata": {},
   "outputs": [
    {
     "name": "stdout",
     "output_type": "stream",
     "text": [
      "list is palindrome\n"
     ]
    }
   ],
   "source": [
    "# Write a Python program that checks if a given list of numbers is a palindrome.\n",
    "# A palindrome is a sequence of numbers that reads the same forwards and backwards.\n",
    "num = [1,2,3,4,3,2,1]\n",
    "if num == num[::-1]:\n",
    "    print(\"list is palindrome\")\n",
    "else:\n",
    "    print(\"list is not palindrome\")"
   ]
  }
 ],
 "metadata": {
  "kernelspec": {
   "display_name": "Python 3 (ipykernel)",
   "language": "python",
   "name": "python3"
  },
  "language_info": {
   "codemirror_mode": {
    "name": "ipython",
    "version": 3
   },
   "file_extension": ".py",
   "mimetype": "text/x-python",
   "name": "python",
   "nbconvert_exporter": "python",
   "pygments_lexer": "ipython3",
   "version": "3.11.5"
  }
 },
 "nbformat": 4,
 "nbformat_minor": 5
}
