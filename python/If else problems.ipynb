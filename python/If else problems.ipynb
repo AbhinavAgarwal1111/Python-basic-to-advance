{
 "cells": [
  {
   "cell_type": "code",
   "execution_count": 3,
   "id": "ba1aa750",
   "metadata": {},
   "outputs": [
    {
     "name": "stdout",
     "output_type": "stream",
     "text": [
      "enter your age19\n",
      "person is eligible for voting\n"
     ]
    }
   ],
   "source": [
    "#program to check person is eligible for voting or not\n",
    "age = int(input(\"enter your age\"))\n",
    "if age >= 18:\n",
    "    print(\"person is eligible for voting\")\n",
    "else:\n",
    "    print(\"person is not eligible\")\n",
    "    \n",
    "    "
   ]
  },
  {
   "cell_type": "code",
   "execution_count": 5,
   "id": "0833f9f0",
   "metadata": {},
   "outputs": [
    {
     "name": "stdout",
     "output_type": "stream",
     "text": [
      "enter a number12\n",
      "number is even\n"
     ]
    }
   ],
   "source": [
    "#odd even program\n",
    "num = int(input(\"enter a number\"))\n",
    "if num%2==0:\n",
    "    print(\"number is even\")\n",
    "else:\n",
    "    print(\"number is odd\")"
   ]
  },
  {
   "cell_type": "code",
   "execution_count": 2,
   "id": "8b21d611",
   "metadata": {},
   "outputs": [
    {
     "name": "stdout",
     "output_type": "stream",
     "text": [
      "enter a number21\n",
      "Number is Divisible\n"
     ]
    }
   ],
   "source": [
    "#number is divisible by 7 or not\n",
    "num = int(input(\"enter a number\"))\n",
    "if num%7==0:\n",
    "    print(\"Number is Divisible\")\n",
    "else:\n",
    "    print(\"Number is not Divisible by 7\")"
   ]
  },
  {
   "cell_type": "code",
   "execution_count": 5,
   "id": "2478e33d",
   "metadata": {},
   "outputs": [
    {
     "name": "stdout",
     "output_type": "stream",
     "text": [
      "enter number of units350\n",
      "After 200 units Rs 10 per unit Amount = 2000\n"
     ]
    }
   ],
   "source": [
    "#program to claculate the bill\n",
    "unit = int(input(\"enter number of units\"))\n",
    "if unit > 200:\n",
    "    print(\"After 200 units Rs 10 per unit Amount =\",500+(unit-200)*10)\n",
    "elif unit > 100 and unit <= 200:\n",
    "    print(\"After 100 units Rs 5 per unit Amount =\",(unit-100)*5)\n",
    "else:\n",
    "    print(\"First 100 units No Charge\")"
   ]
  },
  {
   "cell_type": "code",
   "execution_count": null,
   "id": "8353324a",
   "metadata": {},
   "outputs": [],
   "source": [
    "#dispaly the last digit of the number entered\n",
    "num = int(input(\"enter a number\"))\n",
    "i = num % 10\n",
    "print(\"last digit of the number is = \",i)"
   ]
  },
  {
   "cell_type": "code",
   "execution_count": 1,
   "id": "0ab50aca",
   "metadata": {},
   "outputs": [
    {
     "name": "stdout",
     "output_type": "stream",
     "text": [
      "enter a number3\n",
      "last digit of the number is =  3\n",
      "Last Digit of Number is Divisible\n"
     ]
    }
   ],
   "source": [
    "#to check wether the last digit of the number is divisible by 3 or not\n",
    "num = int(input(\"enter a number\"))\n",
    "i = num % 10\n",
    "print(\"last digit of the number is = \",i)\n",
    "if i%3==0:\n",
    "    print(\"Last Digit of Number is Divisible\")\n",
    "else:\n",
    "    print(\"Last Digit of Number is Not Divisible\")"
   ]
  },
  {
   "cell_type": "code",
   "execution_count": 7,
   "id": "ca180b1c",
   "metadata": {},
   "outputs": [
    {
     "name": "stdout",
     "output_type": "stream",
     "text": [
      "enter your percentage56\n",
      "D grade\n"
     ]
    }
   ],
   "source": [
    "#programe to get the percentage from user and display the grade of the student\n",
    "per = int(input(\"enter your percentage\"))\n",
    "if per>90:\n",
    "    print(\"A grade\")\n",
    "elif per>80 and per<=90:\n",
    "    print(\"B grade\")\n",
    "elif per>=60 and per<=80:\n",
    "    print(\"C grade\")\n",
    "else:\n",
    "    print(\"D grade\")"
   ]
  },
  {
   "cell_type": "code",
   "execution_count": 9,
   "id": "781ad348",
   "metadata": {},
   "outputs": [
    {
     "name": "stdout",
     "output_type": "stream",
     "text": [
      "enter the price of your bike50000\n",
      "tax to be paid = 2500.0\n"
     ]
    }
   ],
   "source": [
    "#take the cost price of the bike and claculate the tax to be paid \n",
    "cp = int(input(\"enter the price of your bike\"))\n",
    "if cp > 100000:\n",
    "    print(\"tax to be paid =\",cp*15/100)\n",
    "if cp > 50000 and cp <=100000:\n",
    "    print(\"tax to be paid =\",cp*10/100)\n",
    "if cp <=50000:\n",
    "    print(\"tax to be paid =\",cp*5/100)"
   ]
  },
  {
   "cell_type": "code",
   "execution_count": 14,
   "id": "43100514",
   "metadata": {},
   "outputs": [
    {
     "name": "stdout",
     "output_type": "stream",
     "text": [
      "enter a number between 1 to 7\n",
      "5\n",
      "Thursday\n"
     ]
    }
   ],
   "source": [
    "# dispaly the nome of day taking input from the user \n",
    "x = int(input(\"enter a number between 1 to 7\\n\"))\n",
    "if x==1:\n",
    "    print(\"sunday\")\n",
    "if x==2:\n",
    "    print(\"Monday\")\n",
    "if x==3:\n",
    "    print(\"Tuesday\")\n",
    "if x==4:\n",
    "    print(\"Wednesday\")\n",
    "if x==5:\n",
    "    print(\"Thursday\")\n",
    "if x==6:\n",
    "    print(\"Friday\")\n",
    "if x==7:\n",
    "    print(\"Saturday\")\n",
    "if x>7:\n",
    "    print(\"Enter a number between 1 to 7 only\")\n",
    "   \n",
    "    "
   ]
  },
  {
   "cell_type": "code",
   "execution_count": 21,
   "id": "aac5b89e",
   "metadata": {},
   "outputs": [
    {
     "name": "stdout",
     "output_type": "stream",
     "text": [
      "Enter a number123\n",
      "The enterd number is correct\n"
     ]
    }
   ],
   "source": [
    "#program to check the length of the number is 3 digit or not\n",
    "num = input(\"Enter a number\")\n",
    "x = len(num)\n",
    "if x==3:\n",
    "    print(\"Given number has exact 3 digits\")\n",
    "elif x>3:\n",
    "    print(\"Given number is more then 3 digit\")\n",
    "else:\n",
    "    print(\"Given number is less then 3 digit\")"
   ]
  },
  {
   "cell_type": "code",
   "execution_count": 23,
   "id": "60fdf7c9",
   "metadata": {},
   "outputs": [
    {
     "name": "stdout",
     "output_type": "stream",
     "text": [
      "Enter your First number12\n",
      "Enter your Second number1\n",
      "Enter your Third number34\n",
      "The Third number was the largest\n"
     ]
    }
   ],
   "source": [
    "#to find the largest of three numbers\n",
    "num1 = input(\"Enter your First number\")\n",
    "num2 = input(\"Enter your Second number\")\n",
    "num3 = input(\"Enter your Third number\")\n",
    "\n",
    "if num1>num2 and num1>num3:\n",
    "    print(\"The First number was the largest\")\n",
    "if num2>num1 and num2>num3:\n",
    "    print(\"The Second number was the largest\")\n",
    "if num3>num1 and num3>num2:\n",
    "    print(\"The Third number was the largest\")"
   ]
  },
  {
   "cell_type": "code",
   "execution_count": null,
   "id": "19a6f904",
   "metadata": {},
   "outputs": [],
   "source": []
  }
 ],
 "metadata": {
  "kernelspec": {
   "display_name": "Python 3 (ipykernel)",
   "language": "python",
   "name": "python3"
  },
  "language_info": {
   "codemirror_mode": {
    "name": "ipython",
    "version": 3
   },
   "file_extension": ".py",
   "mimetype": "text/x-python",
   "name": "python",
   "nbconvert_exporter": "python",
   "pygments_lexer": "ipython3",
   "version": "3.11.5"
  }
 },
 "nbformat": 4,
 "nbformat_minor": 5
}
